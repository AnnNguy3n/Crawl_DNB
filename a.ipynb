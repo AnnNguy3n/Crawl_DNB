{
 "cells": [
  {
   "cell_type": "code",
   "execution_count": null,
   "metadata": {},
   "outputs": [],
   "source": [
    "from CONFIG import FOLDER_DATA\n",
    "import os\n",
    "import pandas as pd\n",
    "os.listdir(FOLDER_DATA)"
   ]
  },
  {
   "cell_type": "code",
   "execution_count": null,
   "metadata": {},
   "outputs": [],
   "source": [
    "list_df_href = []\n",
    "for i in range(289):\n",
    "    df_href = pd.read_csv(f\"{FOLDER_DATA}/Synthesized_company_hrefs/{i}.csv\")\n",
    "    list_df_href.append(df_href)\n",
    "    print(i)"
   ]
  },
  {
   "cell_type": "code",
   "execution_count": null,
   "metadata": {},
   "outputs": [],
   "source": [
    "list_df_href_notDone = []\n",
    "for i in range(289):\n",
    "    df_href = list_df_href[i]\n",
    "    try:\n",
    "        df_check = pd.read_csv(f\"{FOLDER_DATA}/Raw_Data/df_check_{i}.csv\")\n",
    "        list_index = df_check[df_check[\"status\"] != \"Done\"].index\n",
    "    except:\n",
    "        list_index = [_ for _ in range(len(df_href))]\n",
    "    \n",
    "    list_df_href_notDone.append(df_href.loc[list_index])\n",
    "    print(i)"
   ]
  },
  {
   "cell_type": "code",
   "execution_count": 9,
   "metadata": {},
   "outputs": [],
   "source": [
    "pd.concat(list_df_href_notDone).to_csv(f\"{FOLDER_DATA}/Synthesized_company_hrefs/{290}.csv\", index=False)"
   ]
  }
 ],
 "metadata": {
  "kernelspec": {
   "display_name": "Python 3",
   "language": "python",
   "name": "python3"
  },
  "language_info": {
   "codemirror_mode": {
    "name": "ipython",
    "version": 3
   },
   "file_extension": ".py",
   "mimetype": "text/x-python",
   "name": "python",
   "nbconvert_exporter": "python",
   "pygments_lexer": "ipython3",
   "version": "3.10.12"
  }
 },
 "nbformat": 4,
 "nbformat_minor": 2
}
